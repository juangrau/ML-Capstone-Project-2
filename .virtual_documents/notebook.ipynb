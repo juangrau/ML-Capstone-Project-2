





!pip install kagglehub


import kagglehub

# Download latest version
path = kagglehub.dataset_download("mansoorahmad4477/cardiology-unit-admission")
print("Path where the dataset was downloaded is: " + path)





!mkdir ./data
!mv {path}/* ./data
!ls ./data





import pandas as pd
import numpy as np
from sklearn.model_selection import train_test_split


df = pd.read_csv('./data/cw_22_23_24.csv')


len(df)


df.head()





df.dtypes


# lets normalize the columns names
df.columns = df.columns.str.lower().str.replace(' ','_').str.replace('.', '')
df.columns





categorical = list(df.dtypes[df.dtypes == 'object'].index)

for c in categorical:
    df[c] = df[c].str.lower().str.replace(' ','_')


for c in categorical:
    print('********************')
    print(df[c].value_counts())
    print('********************' + "\n\n")





df['doa'] = pd.to_datetime(df['doa'], format='mixed')
df['dod'] = pd.to_datetime(df['dod'], format='mixed')
df.info()


len(df)





df['disease'].fillna({'disease': 'missing'}, inplace=True)


df.info()





df['doa_month'] = df['doa'].dt.month
df['doa_day'] = df['doa'].dt.day
df['dod_month'] = df['dod'].dt.month
df['dod_day'] = df['dod'].dt.day





df_full_train, df_test = train_test_split(df, test_size=0.2, random_state=1)
df_train, df_val = train_test_split(df_full_train, test_size=0.25, random_state=1)

y_train = df_train.los.values
y_val = df_val.los.values
y_test = df_test.los.values

df_train = df_train.reset_index(drop=True)
df_val = df_val.reset_index(drop=True)
df_test = df_test.reset_index(drop=True)

del df_train['churn']
del df_val['churn']
del df_test['churn']
