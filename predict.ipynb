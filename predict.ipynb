{
 "cells": [
  {
   "cell_type": "markdown",
   "metadata": {},
   "source": [
    "## Function to prepare data\n",
    "\n",
    "Thinking about the service that is going to receive data and make predictions, we need to make a function that:\n",
    "- Receives a record in json format\n",
    "- The record wont have some of the columns we need (month, day of the month, day of week, is weekend and quarter)\n",
    "- returns the data with all the columns required for the model to work"
   ]
  },
  {
   "cell_type": "code",
   "execution_count": 1,
   "metadata": {},
   "outputs": [],
   "source": [
    "import json\n",
    "import pandas as pd\n",
    "import pickle\n",
    "import numpy as np\n",
    "from sklearn.linear_model import LinearRegression, Ridge"
   ]
  },
  {
   "cell_type": "code",
   "execution_count": 5,
   "metadata": {},
   "outputs": [],
   "source": [
    "# Sample data\n",
    "data = '''{\n",
    "        \"adm_type\":\"shift_from\",\n",
    "        \"shift_from\":\"er\",\n",
    "        \"ssc\":\"yes\",\n",
    "        \"yr_nae\":1006,\n",
    "        \"m_no\":46,\n",
    "        \"sex\":\"m\",\n",
    "        \"disease\":\"mi\",\n",
    "        \"status\":\"discharge\",\n",
    "        \"consultant\":\"tariq_nawaz\",\n",
    "        \"doa\":\"1-Jan-22\"\n",
    "    }'''\n",
    "\n",
    "data2 = {\n",
    "    'adm_type':'shift_from',\n",
    "    'shift_from':'er',\n",
    "    'ssc':'yes',\n",
    "    'yr_nae':1006,\n",
    "    'm_no':46,\n",
    "    'sex':'m',\n",
    "    'disease':'mi',\n",
    "    'status':'discharge',\n",
    "    'consultant':'tariq_nawaz',\n",
    "    'doa':'1-Jan-22'\n",
    "}\n",
    "\n",
    "# Parse the JSON string into a Python dictionary\n",
    "#data_dict = json.loads(data)\n",
    "\n",
    "# Create a Pandas DataFrame from the dictionary\n",
    "input_df = pd.DataFrame([data2])"
   ]
  },
  {
   "cell_type": "code",
   "execution_count": 3,
   "metadata": {},
   "outputs": [
    {
     "data": {
      "text/html": [
       "<div>\n",
       "<style scoped>\n",
       "    .dataframe tbody tr th:only-of-type {\n",
       "        vertical-align: middle;\n",
       "    }\n",
       "\n",
       "    .dataframe tbody tr th {\n",
       "        vertical-align: top;\n",
       "    }\n",
       "\n",
       "    .dataframe thead th {\n",
       "        text-align: right;\n",
       "    }\n",
       "</style>\n",
       "<table border=\"1\" class=\"dataframe\">\n",
       "  <thead>\n",
       "    <tr style=\"text-align: right;\">\n",
       "      <th></th>\n",
       "      <th>adm_type</th>\n",
       "      <th>shift_from</th>\n",
       "      <th>ssc</th>\n",
       "      <th>yr_nae</th>\n",
       "      <th>m_no</th>\n",
       "      <th>sex</th>\n",
       "      <th>disease</th>\n",
       "      <th>status</th>\n",
       "      <th>consultant</th>\n",
       "      <th>doa</th>\n",
       "    </tr>\n",
       "  </thead>\n",
       "  <tbody>\n",
       "    <tr>\n",
       "      <th>0</th>\n",
       "      <td>shift_from</td>\n",
       "      <td>er</td>\n",
       "      <td>yes</td>\n",
       "      <td>1006</td>\n",
       "      <td>46</td>\n",
       "      <td>m</td>\n",
       "      <td>mi</td>\n",
       "      <td>discharge</td>\n",
       "      <td>tariq_nawaz</td>\n",
       "      <td>1-Jan-22</td>\n",
       "    </tr>\n",
       "  </tbody>\n",
       "</table>\n",
       "</div>"
      ],
      "text/plain": [
       "     adm_type shift_from  ssc  yr_nae  m_no sex disease     status  \\\n",
       "0  shift_from         er  yes    1006    46   m      mi  discharge   \n",
       "\n",
       "    consultant       doa  \n",
       "0  tariq_nawaz  1-Jan-22  "
      ]
     },
     "execution_count": 3,
     "metadata": {},
     "output_type": "execute_result"
    }
   ],
   "source": [
    "input_df"
   ]
  },
  {
   "cell_type": "code",
   "execution_count": 6,
   "metadata": {},
   "outputs": [],
   "source": [
    "input_df['doa'] = pd.to_datetime(input_df['doa'], format='mixed')\n",
    "input_df['doa_month'] = input_df['doa'].dt.month\n",
    "input_df['doa_day_of_month'] = input_df['doa'].dt.day\n",
    "input_df['doa_day_of_week'] = input_df['doa'].dt.day_of_week\n",
    "input_df['doa_isweekend'] = input_df['doa'].dt.day_of_week>5\n",
    "input_df['doa_quarter'] = input_df['doa'].dt.quarter\n",
    "del input_df['doa']"
   ]
  },
  {
   "cell_type": "code",
   "execution_count": 11,
   "metadata": {},
   "outputs": [],
   "source": [
    "with open('ridge_regression_model_v1.pkl', 'rb') as file:\n",
    "    loaded_model = pickle.load(file)"
   ]
  },
  {
   "cell_type": "code",
   "execution_count": 12,
   "metadata": {},
   "outputs": [
    {
     "name": "stdout",
     "output_type": "stream",
     "text": [
      "Prediction: 2.5194887825249226\n"
     ]
    }
   ],
   "source": [
    "# using the same test_df we used before\n",
    "y_pred_log = loaded_model.predict(input_df)\n",
    "\n",
    "# Convert the predictions back to the original scale\n",
    "y_pred_original = np.expm1(y_pred_log)\n",
    "\n",
    "print(f'Prediction: {y_pred_original[0]}')\n"
   ]
  }
 ],
 "metadata": {
  "kernelspec": {
   "display_name": "python3.10",
   "language": "python",
   "name": "python3"
  },
  "language_info": {
   "codemirror_mode": {
    "name": "ipython",
    "version": 3
   },
   "file_extension": ".py",
   "mimetype": "text/x-python",
   "name": "python",
   "nbconvert_exporter": "python",
   "pygments_lexer": "ipython3",
   "version": "3.10.12"
  }
 },
 "nbformat": 4,
 "nbformat_minor": 2
}
