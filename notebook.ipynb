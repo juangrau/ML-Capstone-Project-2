{
 "cells": [
  {
   "cell_type": "markdown",
   "metadata": {},
   "source": [
    "# Machine Learning Zoomcamp - Capstone Project 2 - Cardiology Unit Admission\n",
    "\n",
    "As described on the Readme.md file, in this project a Linear Regression model will be trained and tuned to estimate the length of stay for patients in a Cardiology Unit.\n",
    "\n",
    "The dataset is available at Kaggel at [this address]('https://www.kaggle.com/datasets/mansoorahmad4477/cardiology-unit-admission')\n",
    "\n",
    "Lets download the dataset"
   ]
  },
  {
   "cell_type": "markdown",
   "metadata": {},
   "source": [
    "## Dataset Download\n",
    "\n",
    "As the dataset is available in Kaggle website, the easiest way to download it is using the kagglehub python library.\n",
    "\n",
    "If you dont have the kagglehub library install you can install it with this command:\n",
    "\n",
    "``` shell\n",
    "pip install kagglehub\n",
    "```"
   ]
  },
  {
   "cell_type": "code",
   "execution_count": 2,
   "metadata": {},
   "outputs": [
    {
     "name": "stdout",
     "output_type": "stream",
     "text": [
      "Collecting kagglehub\n",
      "  Using cached kagglehub-0.3.6-py3-none-any.whl.metadata (30 kB)\n",
      "Requirement already satisfied: packaging in /home/jgrau/anaconda3/envs/python3.10/lib/python3.10/site-packages (from kagglehub) (24.2)\n",
      "Requirement already satisfied: requests in /home/jgrau/anaconda3/envs/python3.10/lib/python3.10/site-packages (from kagglehub) (2.32.3)\n",
      "Collecting tqdm (from kagglehub)\n",
      "  Using cached tqdm-4.67.1-py3-none-any.whl.metadata (57 kB)\n",
      "Requirement already satisfied: charset-normalizer<4,>=2 in /home/jgrau/anaconda3/envs/python3.10/lib/python3.10/site-packages (from requests->kagglehub) (3.3.2)\n",
      "Requirement already satisfied: idna<4,>=2.5 in /home/jgrau/anaconda3/envs/python3.10/lib/python3.10/site-packages (from requests->kagglehub) (3.7)\n",
      "Requirement already satisfied: urllib3<3,>=1.21.1 in /home/jgrau/anaconda3/envs/python3.10/lib/python3.10/site-packages (from requests->kagglehub) (2.2.3)\n",
      "Requirement already satisfied: certifi>=2017.4.17 in /home/jgrau/anaconda3/envs/python3.10/lib/python3.10/site-packages (from requests->kagglehub) (2024.12.14)\n",
      "Using cached kagglehub-0.3.6-py3-none-any.whl (51 kB)\n",
      "Using cached tqdm-4.67.1-py3-none-any.whl (78 kB)\n",
      "Installing collected packages: tqdm, kagglehub\n",
      "Successfully installed kagglehub-0.3.6 tqdm-4.67.1\n"
     ]
    }
   ],
   "source": [
    "!pip install kagglehub"
   ]
  },
  {
   "cell_type": "code",
   "execution_count": 16,
   "metadata": {},
   "outputs": [
    {
     "name": "stdout",
     "output_type": "stream",
     "text": [
      "Downloading from https://www.kaggle.com/api/v1/datasets/download/mansoorahmad4477/cardiology-unit-admission?dataset_version_number=1...\n"
     ]
    },
    {
     "name": "stderr",
     "output_type": "stream",
     "text": [
      "100%|██████████| 209k/209k [00:00<00:00, 1.48MB/s]"
     ]
    },
    {
     "name": "stdout",
     "output_type": "stream",
     "text": [
      "Extracting files...\n",
      "Path where the dataset was downloaded is: /home/jgrau/.cache/kagglehub/datasets/mansoorahmad4477/cardiology-unit-admission/versions/1\n"
     ]
    },
    {
     "name": "stderr",
     "output_type": "stream",
     "text": [
      "\n"
     ]
    }
   ],
   "source": [
    "import kagglehub\n",
    "\n",
    "# Download latest version\n",
    "path = kagglehub.dataset_download(\"mansoorahmad4477/cardiology-unit-admission\")\n",
    "print(\"Path where the dataset was downloaded is: \" + path)"
   ]
  },
  {
   "cell_type": "markdown",
   "metadata": {},
   "source": [
    "With this command we downloaded the dataset, but we need to store it on our project folder"
   ]
  },
  {
   "cell_type": "code",
   "execution_count": 17,
   "metadata": {},
   "outputs": [
    {
     "name": "stdout",
     "output_type": "stream",
     "text": [
      "cw_22_23_24.csv\n"
     ]
    }
   ],
   "source": [
    "!mkdir ./data\n",
    "!mv {path}/* ./data\n",
    "!ls ./data"
   ]
  },
  {
   "cell_type": "markdown",
   "metadata": {},
   "source": [
    "## Load and Prepare Data"
   ]
  },
  {
   "cell_type": "code",
   "execution_count": 1,
   "metadata": {},
   "outputs": [],
   "source": [
    "import pandas as pd\n",
    "import numpy as np\n",
    "from sklearn.model_selection import train_test_split, GridSearchCV\n",
    "from sklearn.preprocessing import OneHotEncoder, StandardScaler\n",
    "from sklearn.pipeline import Pipeline\n",
    "from sklearn.compose import ColumnTransformer\n",
    "from sklearn.linear_model import LinearRegression, Ridge\n",
    "from sklearn.metrics import mean_squared_error, r2_score\n",
    "from sklearn.feature_extraction import DictVectorizer\n",
    "import seaborn as sns\n",
    "import matplotlib.pyplot as plt"
   ]
  },
  {
   "cell_type": "code",
   "execution_count": 2,
   "metadata": {},
   "outputs": [],
   "source": [
    "df = pd.read_csv('./data/cw_22_23_24.csv')"
   ]
  },
  {
   "cell_type": "code",
   "execution_count": 3,
   "metadata": {},
   "outputs": [
    {
     "data": {
      "text/plain": [
       "9573"
      ]
     },
     "execution_count": 3,
     "metadata": {},
     "output_type": "execute_result"
    }
   ],
   "source": [
    "len(df)"
   ]
  },
  {
   "cell_type": "code",
   "execution_count": null,
   "metadata": {},
   "outputs": [
    {
     "data": {
      "text/html": [
       "<div>\n",
       "<style scoped>\n",
       "    .dataframe tbody tr th:only-of-type {\n",
       "        vertical-align: middle;\n",
       "    }\n",
       "\n",
       "    .dataframe tbody tr th {\n",
       "        vertical-align: top;\n",
       "    }\n",
       "\n",
       "    .dataframe thead th {\n",
       "        text-align: right;\n",
       "    }\n",
       "</style>\n",
       "<table border=\"1\" class=\"dataframe\">\n",
       "  <thead>\n",
       "    <tr style=\"text-align: right;\">\n",
       "      <th></th>\n",
       "      <th>adm_type</th>\n",
       "      <th>shift_from</th>\n",
       "      <th>ssc</th>\n",
       "      <th>yr_nae</th>\n",
       "      <th>m_no</th>\n",
       "      <th>mrn</th>\n",
       "      <th>pt_name</th>\n",
       "      <th>sex</th>\n",
       "      <th>disease</th>\n",
       "      <th>D.O.A</th>\n",
       "      <th>D.O.D</th>\n",
       "      <th>status</th>\n",
       "      <th>consultant</th>\n",
       "      <th>L.O.S</th>\n",
       "    </tr>\n",
       "  </thead>\n",
       "  <tbody>\n",
       "    <tr>\n",
       "      <th>0</th>\n",
       "      <td>Shift From</td>\n",
       "      <td>ER</td>\n",
       "      <td>No</td>\n",
       "      <td>1</td>\n",
       "      <td>1</td>\n",
       "      <td>21845698</td>\n",
       "      <td>Hara Bibi</td>\n",
       "      <td>F</td>\n",
       "      <td>STEMI</td>\n",
       "      <td>1-Jan-22</td>\n",
       "      <td>1-Jan-22</td>\n",
       "      <td>Discharge</td>\n",
       "      <td>Imran Khan</td>\n",
       "      <td>0</td>\n",
       "    </tr>\n",
       "    <tr>\n",
       "      <th>1</th>\n",
       "      <td>Shift From</td>\n",
       "      <td>ER</td>\n",
       "      <td>No</td>\n",
       "      <td>2</td>\n",
       "      <td>2</td>\n",
       "      <td>22000071</td>\n",
       "      <td>Taj Rehman</td>\n",
       "      <td>M</td>\n",
       "      <td>ADHF</td>\n",
       "      <td>1-Jan-22</td>\n",
       "      <td>5-Jan-22</td>\n",
       "      <td>Discharge</td>\n",
       "      <td>Malik Faisal</td>\n",
       "      <td>4</td>\n",
       "    </tr>\n",
       "    <tr>\n",
       "      <th>2</th>\n",
       "      <td>Shift From</td>\n",
       "      <td>ER</td>\n",
       "      <td>No</td>\n",
       "      <td>3</td>\n",
       "      <td>3</td>\n",
       "      <td>21838760</td>\n",
       "      <td>Bakhtawar Shah</td>\n",
       "      <td>M</td>\n",
       "      <td>ihd</td>\n",
       "      <td>1-Jan-22</td>\n",
       "      <td>10-Jan-22</td>\n",
       "      <td>Discharge</td>\n",
       "      <td>Asif Iqbal</td>\n",
       "      <td>9</td>\n",
       "    </tr>\n",
       "    <tr>\n",
       "      <th>3</th>\n",
       "      <td>Shift From</td>\n",
       "      <td>ER</td>\n",
       "      <td>No</td>\n",
       "      <td>4</td>\n",
       "      <td>4</td>\n",
       "      <td>22000251</td>\n",
       "      <td>Arasal Jan Bibi</td>\n",
       "      <td>F</td>\n",
       "      <td>NaN</td>\n",
       "      <td>1-Jan-22</td>\n",
       "      <td>7-Jan-22</td>\n",
       "      <td>Discharge</td>\n",
       "      <td>Sher Bahadar</td>\n",
       "      <td>6</td>\n",
       "    </tr>\n",
       "    <tr>\n",
       "      <th>4</th>\n",
       "      <td>Shift From</td>\n",
       "      <td>Neu</td>\n",
       "      <td>No</td>\n",
       "      <td>5</td>\n",
       "      <td>5</td>\n",
       "      <td>21825110</td>\n",
       "      <td>Khad Mewa</td>\n",
       "      <td>F</td>\n",
       "      <td>NaN</td>\n",
       "      <td>1-Jan-22</td>\n",
       "      <td>2-Jan-22</td>\n",
       "      <td>Discharge</td>\n",
       "      <td>Tariq Nawaz</td>\n",
       "      <td>1</td>\n",
       "    </tr>\n",
       "  </tbody>\n",
       "</table>\n",
       "</div>"
      ],
      "text/plain": [
       "     adm_type shift_from ssc  yr_nae  m_no       mrn          pt_name sex  \\\n",
       "0  Shift From         ER  No       1     1  21845698        Hara Bibi   F   \n",
       "1  Shift From         ER  No       2     2  22000071       Taj Rehman   M   \n",
       "2  Shift From         ER  No       3     3  21838760   Bakhtawar Shah   M   \n",
       "3  Shift From         ER  No       4     4  22000251  Arasal Jan Bibi   F   \n",
       "4  Shift From        Neu  No       5     5  21825110       Khad Mewa    F   \n",
       "\n",
       "  disease     D.O.A      D.O.D     status    consultant  L.O.S  \n",
       "0   STEMI  1-Jan-22   1-Jan-22  Discharge    Imran Khan      0  \n",
       "1    ADHF  1-Jan-22   5-Jan-22  Discharge  Malik Faisal      4  \n",
       "2     ihd  1-Jan-22  10-Jan-22  Discharge    Asif Iqbal      9  \n",
       "3     NaN  1-Jan-22   7-Jan-22  Discharge  Sher Bahadar      6  \n",
       "4     NaN  1-Jan-22   2-Jan-22  Discharge   Tariq Nawaz      1  "
      ]
     },
     "execution_count": 4,
     "metadata": {},
     "output_type": "execute_result"
    }
   ],
   "source": [
    "df.head()"
   ]
  },
  {
   "cell_type": "markdown",
   "metadata": {},
   "source": [
    "### Columns Description\n",
    "\n",
    "Based on the information available at Kaggle, this is the description of the information available in each column of the dataset:\n",
    "\n",
    "- adm_type: Indicates the type of admission (e.g., \"Shift From\").\n",
    "- shift_from: Specifies the source from where the patient was shifted (e.g., \"ER\" for Emergency Room, \"Neu\" for Neurology).\n",
    "- ssc: Sehat Sahulat Card insurance or Health card of KPK province.\n",
    "- yr_nae: Likely represents the year of the admission event.\n",
    "- m_no: Month number of the admission event.\n",
    "- mrn: Medical record number, a unique identifier for each patient.\n",
    "- pt_name: Name of the patient.\n",
    "- sex: Gender of the patient (e.g., \"M\" for male, \"F\" for female).\n",
    "- disease: Diagnosis or condition of the patient (e.g., \"STEMI\", \"ADHF\").\n",
    "- D.O.A: Date of admission in various formats.\n",
    "- D.O.D: Date of discharge or death, also in various formats.\n",
    "- status: Discharge status of the patient (e.g., \"Discharge\").\n",
    "- consultant: Name of the consulting doctor responsible for the patient.\n",
    "- L.O.S: Length of stay in the hospital, measured in days. **--> This will be our target variable**"
   ]
  },
  {
   "cell_type": "markdown",
   "metadata": {},
   "source": [
    "### Data Preparation"
   ]
  },
  {
   "cell_type": "markdown",
   "metadata": {},
   "source": [
    "Let us remove the following columns from the dataset:\n",
    "- D.O.D feature as for a future patient we wont have this information at hand.\n",
    "- mrn (Medical Record number) as it wont provide any useful information for the model.\n",
    "- pt_name as the patient name wont provide provide any useful information for the model as well."
   ]
  },
  {
   "cell_type": "code",
   "execution_count": 5,
   "metadata": {},
   "outputs": [],
   "source": [
    "del df['D.O.D']\n",
    "del df['mrn']\n",
    "del df['pt_name']"
   ]
  },
  {
   "cell_type": "code",
   "execution_count": 6,
   "metadata": {},
   "outputs": [
    {
     "data": {
      "text/plain": [
       "adm_type      object\n",
       "shift_from    object\n",
       "ssc           object\n",
       "yr_nae         int64\n",
       "m_no           int64\n",
       "sex           object\n",
       "disease       object\n",
       "D.O.A         object\n",
       "status        object\n",
       "consultant    object\n",
       "L.O.S          int64\n",
       "dtype: object"
      ]
     },
     "execution_count": 6,
     "metadata": {},
     "output_type": "execute_result"
    }
   ],
   "source": [
    "df.dtypes"
   ]
  },
  {
   "cell_type": "code",
   "execution_count": 7,
   "metadata": {},
   "outputs": [
    {
     "data": {
      "text/plain": [
       "Index(['adm_type', 'shift_from', 'ssc', 'yr_nae', 'm_no', 'sex', 'disease',\n",
       "       'doa', 'status', 'consultant', 'los'],\n",
       "      dtype='object')"
      ]
     },
     "execution_count": 7,
     "metadata": {},
     "output_type": "execute_result"
    }
   ],
   "source": [
    "# lets normalize the columns names\n",
    "df.columns = df.columns.str.lower().str.replace(' ','_').str.replace('.', '')\n",
    "df.columns"
   ]
  },
  {
   "cell_type": "markdown",
   "metadata": {},
   "source": [
    "We can see that there are columns that can be defined as categorial variables. Lets normalize the information on those."
   ]
  },
  {
   "cell_type": "code",
   "execution_count": 8,
   "metadata": {},
   "outputs": [],
   "source": [
    "categorical_features = list(df.dtypes[df.dtypes == 'object'].index)\n",
    "\n",
    "for c in categorical_features:\n",
    "    df[c] = df[c].str.lower().str.replace(' ','_')"
   ]
  },
  {
   "cell_type": "code",
   "execution_count": 9,
   "metadata": {},
   "outputs": [
    {
     "name": "stdout",
     "output_type": "stream",
     "text": [
      "********************\n",
      "adm_type\n",
      "shift_from    9192\n",
      "ibp            194\n",
      "opd            107\n",
      "er              78\n",
      "opd_             2\n",
      "Name: count, dtype: int64\n",
      "********************\n",
      "\n",
      "\n",
      "********************\n",
      "shift_from\n",
      "er                8073\n",
      "post_cath         1013\n",
      "ibp                167\n",
      "opd                 90\n",
      "pcw                 22\n",
      "                  ... \n",
      "gynae                1\n",
      "ct_icu/ibp           1\n",
      "amu/er               1\n",
      "shift_from_cvw       1\n",
      "s-pacu               1\n",
      "Name: count, Length: 97, dtype: int64\n",
      "********************\n",
      "\n",
      "\n",
      "********************\n",
      "ssc\n",
      "no     5658\n",
      "yes    3915\n",
      "Name: count, dtype: int64\n",
      "********************\n",
      "\n",
      "\n",
      "********************\n",
      "sex\n",
      "m    5631\n",
      "f    3942\n",
      "Name: count, dtype: int64\n",
      "********************\n",
      "\n",
      "\n",
      "********************\n",
      "disease\n",
      "awmi            1478\n",
      "iwmi             807\n",
      "nstemi           745\n",
      "mi               381\n",
      "chb              345\n",
      "                ... \n",
      "ihd_avr            1\n",
      "htn_mi             1\n",
      "dc_cad             1\n",
      "charsadda          1\n",
      "infected_ppm       1\n",
      "Name: count, Length: 744, dtype: int64\n",
      "********************\n",
      "\n",
      "\n",
      "********************\n",
      "doa\n",
      "21-aug-23    22\n",
      "25-aug-22    22\n",
      "22-feb-22    21\n",
      "20-may-22    21\n",
      "22-mar-22    21\n",
      "             ..\n",
      "28-jan-24     2\n",
      "28-apr-24     1\n",
      "9-apr-23      1\n",
      "15-apr-22     1\n",
      "19-nov-23     1\n",
      "Name: count, Length: 909, dtype: int64\n",
      "********************\n",
      "\n",
      "\n",
      "********************\n",
      "status\n",
      "discharge    8608\n",
      "expire        537\n",
      "shifted       205\n",
      "lama          185\n",
      "dow            38\n",
      "Name: count, dtype: int64\n",
      "********************\n",
      "\n",
      "\n",
      "********************\n",
      "consultant\n",
      "imran_khan         1436\n",
      "jabar_ali          1422\n",
      "tariq_nawaz        1372\n",
      "malik_faisal       1292\n",
      "samra_rehmat        982\n",
      "asif_iqbal          977\n",
      "ikram_ullah         789\n",
      "said_zaman          505\n",
      "sher_bahadar        380\n",
      "adil                361\n",
      "sadia_ilyas          36\n",
      "syed_asif_akbar      11\n",
      "arshad_sohail         8\n",
      "_tariq_nawaz          2\n",
      "Name: count, dtype: int64\n",
      "********************\n",
      "\n",
      "\n"
     ]
    }
   ],
   "source": [
    "for c in categorical_features:\n",
    "    print('********************')\n",
    "    print(df[c].value_counts())\n",
    "    print('********************' + \"\\n\\n\")"
   ]
  },
  {
   "cell_type": "code",
   "execution_count": 10,
   "metadata": {},
   "outputs": [
    {
     "data": {
      "text/plain": [
       "['yr_nae', 'm_no']"
      ]
     },
     "execution_count": 10,
     "metadata": {},
     "output_type": "execute_result"
    }
   ],
   "source": [
    "numerical_features = list(df.dtypes[df.dtypes != 'object'].index)\n",
    "numerical_features.remove('los')\n",
    "numerical_features"
   ]
  },
  {
   "cell_type": "markdown",
   "metadata": {},
   "source": [
    "### Feature Engineering\n",
    "\n",
    "As we have a column with the Date of Admission, lets break this column in additional columns that might provide much more information to the model."
   ]
  },
  {
   "cell_type": "code",
   "execution_count": 11,
   "metadata": {},
   "outputs": [],
   "source": [
    "df['doa'] = pd.to_datetime(df['doa'], format='mixed')"
   ]
  },
  {
   "cell_type": "code",
   "execution_count": 12,
   "metadata": {},
   "outputs": [],
   "source": [
    "df['doa_month'] = df['doa'].dt.month\n",
    "df['doa_day_of_month'] = df['doa'].dt.day\n",
    "df['doa_day_of_week'] = df['doa'].dt.day_of_week\n",
    "df['doa_isweekend'] = df['doa'].dt.day_of_week>5\n",
    "df['doa_quarter'] = df['doa'].dt.quarter"
   ]
  },
  {
   "cell_type": "markdown",
   "metadata": {},
   "source": [
    "Now we can get rid of the column date of admission"
   ]
  },
  {
   "cell_type": "code",
   "execution_count": 13,
   "metadata": {},
   "outputs": [],
   "source": [
    "del df['doa']"
   ]
  },
  {
   "cell_type": "code",
   "execution_count": 14,
   "metadata": {},
   "outputs": [],
   "source": [
    "categorical_features.remove('doa')"
   ]
  },
  {
   "cell_type": "code",
   "execution_count": 15,
   "metadata": {},
   "outputs": [
    {
     "name": "stdout",
     "output_type": "stream",
     "text": [
      "<class 'pandas.core.frame.DataFrame'>\n",
      "RangeIndex: 9573 entries, 0 to 9572\n",
      "Data columns (total 15 columns):\n",
      " #   Column            Non-Null Count  Dtype \n",
      "---  ------            --------------  ----- \n",
      " 0   adm_type          9573 non-null   object\n",
      " 1   shift_from        9573 non-null   object\n",
      " 2   ssc               9573 non-null   object\n",
      " 3   yr_nae            9573 non-null   int64 \n",
      " 4   m_no              9573 non-null   int64 \n",
      " 5   sex               9573 non-null   object\n",
      " 6   disease           7481 non-null   object\n",
      " 7   status            9573 non-null   object\n",
      " 8   consultant        9573 non-null   object\n",
      " 9   los               9573 non-null   int64 \n",
      " 10  doa_month         9573 non-null   int32 \n",
      " 11  doa_day_of_month  9573 non-null   int32 \n",
      " 12  doa_day_of_week   9573 non-null   int32 \n",
      " 13  doa_isweekend     9573 non-null   bool  \n",
      " 14  doa_quarter       9573 non-null   int32 \n",
      "dtypes: bool(1), int32(4), int64(3), object(7)\n",
      "memory usage: 906.9+ KB\n"
     ]
    }
   ],
   "source": [
    "df.info() # Look at the result on desease column"
   ]
  },
  {
   "cell_type": "markdown",
   "metadata": {},
   "source": [
    "### Handling missing values\n",
    "\n",
    "We can see that the only column with missing values is the column *disease*. There are multiple ways to handle this case. Among the options we could mention the following three options:\n",
    "1. **Delete rows with missing values**: This would be the most simple option, but as the missing values represent around 21% of the rows, we would be missing too much data.\n",
    "2. **Inpute Missing values**: This mean that we could could fill these values with a constant value or with the most frequent value. The problem with this is that we could be introducing bias to the model.\n",
    "3. **Create new category for Missing Values**: By filling these values with 'missing' could be helpful as it would be considered as an additional category/value on this column. We are going with this aproach.\n"
   ]
  },
  {
   "cell_type": "code",
   "execution_count": 16,
   "metadata": {},
   "outputs": [
    {
     "name": "stderr",
     "output_type": "stream",
     "text": [
      "/tmp/ipykernel_92592/2012226267.py:1: FutureWarning: A value is trying to be set on a copy of a DataFrame or Series through chained assignment using an inplace method.\n",
      "The behavior will change in pandas 3.0. This inplace method will never work because the intermediate object on which we are setting values always behaves as a copy.\n",
      "\n",
      "For example, when doing 'df[col].method(value, inplace=True)', try using 'df.method({col: value}, inplace=True)' or df[col] = df[col].method(value) instead, to perform the operation inplace on the original object.\n",
      "\n",
      "\n",
      "  df['disease'].fillna('missing', inplace=True)\n"
     ]
    }
   ],
   "source": [
    "df['disease'].fillna('missing', inplace=True)"
   ]
  },
  {
   "cell_type": "code",
   "execution_count": 17,
   "metadata": {},
   "outputs": [
    {
     "name": "stdout",
     "output_type": "stream",
     "text": [
      "<class 'pandas.core.frame.DataFrame'>\n",
      "RangeIndex: 9573 entries, 0 to 9572\n",
      "Data columns (total 15 columns):\n",
      " #   Column            Non-Null Count  Dtype \n",
      "---  ------            --------------  ----- \n",
      " 0   adm_type          9573 non-null   object\n",
      " 1   shift_from        9573 non-null   object\n",
      " 2   ssc               9573 non-null   object\n",
      " 3   yr_nae            9573 non-null   int64 \n",
      " 4   m_no              9573 non-null   int64 \n",
      " 5   sex               9573 non-null   object\n",
      " 6   disease           9573 non-null   object\n",
      " 7   status            9573 non-null   object\n",
      " 8   consultant        9573 non-null   object\n",
      " 9   los               9573 non-null   int64 \n",
      " 10  doa_month         9573 non-null   int32 \n",
      " 11  doa_day_of_month  9573 non-null   int32 \n",
      " 12  doa_day_of_week   9573 non-null   int32 \n",
      " 13  doa_isweekend     9573 non-null   bool  \n",
      " 14  doa_quarter       9573 non-null   int32 \n",
      "dtypes: bool(1), int32(4), int64(3), object(7)\n",
      "memory usage: 906.9+ KB\n"
     ]
    }
   ],
   "source": [
    "df.info()"
   ]
  },
  {
   "cell_type": "markdown",
   "metadata": {},
   "source": [
    "Now there are no missing values in the dataset"
   ]
  },
  {
   "cell_type": "markdown",
   "metadata": {},
   "source": [
    "### Preprocessing the data\n",
    "\n",
    "We setup the transformers to numerical and categorical data using Pipelines\n",
    "- In the case of numerical features, we'll scale their values in order to normalize them.\n",
    "- In the case of categorical features, we'll using One Hot Encoding."
   ]
  },
  {
   "cell_type": "code",
   "execution_count": 18,
   "metadata": {},
   "outputs": [],
   "source": [
    "# Define the preprocessing steps\n",
    "numerical_transformer = Pipeline(steps=[\n",
    "    ('scaler', StandardScaler())\n",
    "])\n",
    "\n",
    "categorical_transformer = Pipeline(steps=[\n",
    "    ('onehot', OneHotEncoder(handle_unknown='ignore'))\n",
    "])\n",
    "\n",
    "preprocessor = ColumnTransformer(\n",
    "    transformers=[\n",
    "        ('num', numerical_transformer, numerical_features),\n",
    "        ('cat', categorical_transformer, categorical_features)\n",
    "    ])"
   ]
  },
  {
   "cell_type": "markdown",
   "metadata": {},
   "source": [
    "## Splitting the data and Train/Validate the model"
   ]
  },
  {
   "cell_type": "code",
   "execution_count": 19,
   "metadata": {},
   "outputs": [],
   "source": [
    "df_full_train, df_test = train_test_split(df, test_size=0.2, random_state=1)\n",
    "df_train, df_val = train_test_split(df_full_train, test_size=0.25, random_state=1)\n",
    "\n",
    "df_full_train = df_full_train.reset_index(drop=True)\n",
    "df_train = df_train.reset_index(drop=True)\n",
    "df_test = df_test.reset_index(drop=True)\n",
    "df_val = df_val.reset_index(drop=True)\n",
    "\n",
    "y_full_train = df_full_train.los.values\n",
    "y_train = df_train.los.values\n",
    "y_val = df_val.los.values\n",
    "y_test = df_test.los.values"
   ]
  },
  {
   "cell_type": "code",
   "execution_count": 20,
   "metadata": {},
   "outputs": [],
   "source": [
    "del df_train['los']\n",
    "del df_val['los']\n",
    "del df_test['los']"
   ]
  },
  {
   "cell_type": "code",
   "execution_count": 21,
   "metadata": {},
   "outputs": [],
   "source": [
    "# Create a pipeline that includes the preprocessor and the linear regression model\n",
    "pipeline = Pipeline(steps=[('preprocessor', preprocessor),\n",
    "                           ('regressor', LinearRegression())])"
   ]
  },
  {
   "cell_type": "code",
   "execution_count": 22,
   "metadata": {},
   "outputs": [],
   "source": [
    "# In order to help y_train data to have a normal distribution, we calculate the log values\n",
    "y_train_log = np.log1p(y_train)\n",
    "y_val_log = np.log1p(y_val)"
   ]
  },
  {
   "cell_type": "code",
   "execution_count": 23,
   "metadata": {},
   "outputs": [
    {
     "name": "stdout",
     "output_type": "stream",
     "text": [
      "Mean Squared Error: 0.35023328933542736\n"
     ]
    }
   ],
   "source": [
    "# Train the model\n",
    "pipeline.fit(df_train, y_train_log)\n",
    "\n",
    "# Make predictions\n",
    "y_pred = pipeline.predict(df_val)\n",
    "\n",
    "# Evaluate the model\n",
    "mse = mean_squared_error(y_val_log, y_pred)\n",
    "\n",
    "print(f'Mean Squared Error: {mse}')"
   ]
  },
  {
   "cell_type": "code",
   "execution_count": 24,
   "metadata": {},
   "outputs": [
    {
     "data": {
      "text/plain": [
       "<Axes: ylabel='Count'>"
      ]
     },
     "execution_count": 24,
     "metadata": {},
     "output_type": "execute_result"
    },
    {
     "data": {
      "image/png": "[encoded data removed]",
      "text/plain": [
       "<Figure size 640x480 with 1 Axes>"
      ]
     },
     "metadata": {},
     "output_type": "display_data"
    }
   ],
   "source": [
    "sns.histplot(y_train_log, color='red', alpha=0.5)\n",
    "sns.histplot(y_pred, color='blue', alpha=0.5)\n",
    "sns.histplot(y_val_log, color='green', alpha=0.5)"
   ]
  },
  {
   "cell_type": "markdown",
   "metadata": {},
   "source": [
    "#### Reviewing this partial result\n",
    "\n",
    "The result obtained:\n",
    "- Mean Squared Error: 0.35023328933542736\n",
    "\n",
    "Is not bad, but we can see if it can be improved. For this, we will try additional Regression models to see if any of those works better than Linear Regression model, including:\n",
    "- **Ridge Regression:** Applies a L2 Regularization which adds a penalty equal to the sum of the squared values of the coefficients to the loss function.\n",
    "\n",
    "  - The objective function for Ridge Regression is:\n",
    "    $$\n",
    "    \\text{Minimize} \\left( \\sum_{i=1}^m (y_i - \\hat{y}_i)^2 + \\alpha \\sum_{j=1}^n \\beta_j^2 \\right)\n",
    "    $$\n",
    "    where $\\alpha$ is the regularization strength, $\\beta_j$ are the coefficients, $m$ is the number of samples, and $n$ is the number of features.\n",
    "  - **Use Case:** Ridge Regression is useful when you have many correlated features and you want to retain all of them in the model but with reduced influence.  \n",
    "\n",
    "- **Lasso Regression:** Applies a L1 Regularization which adds a penalty equal to the sum of the absolute values of the coefficients to the loss function.\n",
    "\n",
    "  - The objective function for Lasso Regression is:\n",
    "    $$\n",
    "    \\text{Minimize} \\left( \\sum_{i=1}^m (y_i - \\hat{y}_i)^2 + \\alpha \\sum_{j=1}^n |\\beta_j| \\right)\n",
    "    $$\n",
    "    where $\\alpha$ is the regularization strength, $\\beta_j$ are the coefficients, $m$ is the number of samples, and $n$ is the number of features.\n",
    "\n",
    "  - **Use Case:** Lasso Regression is useful when you have a large number of features and you want to perform feature selection to identify the most important ones.\n"
   ]
  },
  {
   "cell_type": "markdown",
   "metadata": {},
   "source": [
    "## Testing Ridge Regression"
   ]
  },
  {
   "cell_type": "code",
   "execution_count": 25,
   "metadata": {},
   "outputs": [
    {
     "name": "stdout",
     "output_type": "stream",
     "text": [
      "Best Parameters: {'regressor__alpha': 10.0}\n",
      "Mean Squared Error: 0.34334693947073797\n"
     ]
    }
   ],
   "source": [
    "# Create a pipeline that includes the preprocessor and the ridge regression model, intead of LinearRegression\n",
    "ridge_pipeline = Pipeline(steps=[('preprocessor', preprocessor),\n",
    "                                  ('regressor', Ridge())])\n",
    "\n",
    "# Define the parameter grid for GridSearchCV\n",
    "param_grid = {\n",
    "    'regressor__alpha': [0.1, 1.0, 10.0, 100.0]\n",
    "}\n",
    "\n",
    "# Initialize GridSearchCV\n",
    "grid_search = GridSearchCV(ridge_pipeline, param_grid, cv=5, scoring='neg_mean_squared_error')\n",
    "\n",
    "# Fit GridSearchCV\n",
    "grid_search.fit(df_train, y_train_log)\n",
    "\n",
    "# Best parameters\n",
    "best_params = grid_search.best_params_\n",
    "print(f'Best Parameters: {best_params}')\n",
    "\n",
    "# Best model\n",
    "ridge_model = grid_search.best_estimator_\n",
    "\n",
    "# Make predictions with the best model\n",
    "y_pred = ridge_model.predict(df_val)\n",
    "\n",
    "# Evaluate the best model\n",
    "mse = mean_squared_error(y_val_log, y_pred)\n",
    "\n",
    "print(f'Mean Squared Error: {mse}')"
   ]
  },
  {
   "cell_type": "markdown",
   "metadata": {},
   "source": [
    "## Testing Lasso"
   ]
  },
  {
   "cell_type": "code",
   "execution_count": 26,
   "metadata": {},
   "outputs": [
    {
     "name": "stdout",
     "output_type": "stream",
     "text": [
      "Best Parameters: {'regressor__alpha': 0.01}\n",
      "Mean Squared Error: 0.36717783815120897\n"
     ]
    }
   ],
   "source": [
    "from sklearn.linear_model import Lasso\n",
    "\n",
    "# Create a pipeline that includes the preprocessor and the Lasso regression model\n",
    "lasso_pipeline = Pipeline(steps=[('preprocessor', preprocessor),\n",
    "                                 ('regressor', Lasso())])\n",
    "\n",
    "# Define the parameter grid for GridSearchCV\n",
    "param_grid = {\n",
    "    'regressor__alpha': [0.01, 0.1, 1.0, 10.0, 100.0]\n",
    "}\n",
    "\n",
    "# Initialize GridSearchCV\n",
    "grid_search = GridSearchCV(lasso_pipeline, param_grid, cv=5, scoring='neg_mean_squared_error')\n",
    "\n",
    "# Fit GridSearchCV\n",
    "grid_search.fit(df_train, y_train_log)\n",
    "\n",
    "# Best parameters\n",
    "best_params = grid_search.best_params_\n",
    "print(f'Best Parameters: {best_params}')\n",
    "\n",
    "# Best model\n",
    "lasso_model = grid_search.best_estimator_\n",
    "\n",
    "# Make predictions with the best model\n",
    "y_pred = lasso_model.predict(df_val)\n",
    "\n",
    "# Evaluate the best model\n",
    "mse = mean_squared_error(y_val_log, y_pred)\n",
    "r2 = r2_score(y_val_log, y_pred)\n",
    "\n",
    "print(f'Mean Squared Error: {mse}')\n"
   ]
  },
  {
   "cell_type": "markdown",
   "metadata": {},
   "source": [
    "## Results comparison\n",
    "\n",
    "|Model|MSE|\n",
    "|---|---|\n",
    "|Linear Regression|0.3502|\n",
    "|Ridge Regression|0.3433|\n",
    "|Lasso Regression|0.3671|\n",
    "\n",
    "Based on this the best model would be the **Ridge Regression Model**. "
   ]
  },
  {
   "cell_type": "markdown",
   "metadata": {},
   "source": [
    "## Full Train the model.\n",
    "\n",
    "Now that we know the best model for the job, we are going to train it with the full_train dataset and test it with the test dataset"
   ]
  },
  {
   "cell_type": "code",
   "execution_count": 27,
   "metadata": {},
   "outputs": [],
   "source": [
    "y_full_train_log = np.log1p(df_full_train.los.values)\n",
    "del df_full_train['los']\n",
    "y_test_log = np.log1p(y_test)"
   ]
  },
  {
   "cell_type": "code",
   "execution_count": 28,
   "metadata": {},
   "outputs": [
    {
     "name": "stdout",
     "output_type": "stream",
     "text": [
      "Mean Squared Error: 0.3619813653551113\n"
     ]
    }
   ],
   "source": [
    "# from the first train, we got that the best alpha value was 10.0\n",
    "best_alpha = 10.0\n",
    "\n",
    "# Create a pipeline that includes the preprocessor and the ridge regression model, intead of LinearRegression\n",
    "ridge_pipeline = Pipeline(steps=[('preprocessor', preprocessor),\n",
    "                                  ('regressor', Ridge(alpha=best_alpha))])\n",
    "\n",
    "ridge_pipeline.fit(df_full_train, y_full_train_log)\n",
    "y_pred = ridge_pipeline.predict(df_test)\n",
    "\n",
    "# Evaluate the best model\n",
    "mse = mean_squared_error(y_test_log, y_pred)\n",
    "\n",
    "print(f'Mean Squared Error: {mse}')"
   ]
  },
  {
   "cell_type": "markdown",
   "metadata": {},
   "source": [
    "Just to actually see the model working, lets take one sample value and test it against the model"
   ]
  },
  {
   "cell_type": "code",
   "execution_count": 29,
   "metadata": {},
   "outputs": [
    {
     "name": "stdout",
     "output_type": "stream",
     "text": [
      "Log values => Prediction: 1.2645255856920932, Original Value: 1.0986122886681096\n",
      "Values in days => Prediction: 2.541412240877741, Original Value: 1.9999999999999996\n"
     ]
    }
   ],
   "source": [
    "# lets take a random index from the full train dataset\n",
    "rand_index = np.random.randint(0, len(y_full_train))\n",
    "rand_index\n",
    "\n",
    "test_df = df_full_train.loc[[rand_index]]\n",
    "test_y = y_full_train_log[rand_index]\n",
    "\n",
    "y_pred = ridge_pipeline.predict(test_df)\n",
    "print(f'Log values => Prediction: {y_pred[0]}, Original Value: {test_y}')\n",
    "print(f'Values in days => Prediction: {np.expm1(y_pred[0])}, Original Value: {np.expm1(test_y)}')\n"
   ]
  },
  {
   "cell_type": "markdown",
   "metadata": {},
   "source": [
    "## Exporting the model to a file"
   ]
  },
  {
   "cell_type": "code",
   "execution_count": 30,
   "metadata": {},
   "outputs": [],
   "source": [
    "import pickle"
   ]
  },
  {
   "cell_type": "code",
   "execution_count": 31,
   "metadata": {},
   "outputs": [],
   "source": [
    "# Save the best model to a file\n",
    "filename = 'ridge_regression_model_v1.pkl'\n",
    "with open(filename, 'wb') as file:\n",
    "    pickle.dump(ridge_model, file)"
   ]
  },
  {
   "cell_type": "markdown",
   "metadata": {},
   "source": [
    "## Testing the model inporting it"
   ]
  },
  {
   "cell_type": "code",
   "execution_count": 32,
   "metadata": {},
   "outputs": [],
   "source": [
    "with open('ridge_regression_model_v1.pkl', 'rb') as file:\n",
    "    loaded_model = pickle.load(file)"
   ]
  },
  {
   "cell_type": "code",
   "execution_count": 33,
   "metadata": {},
   "outputs": [
    {
     "name": "stdout",
     "output_type": "stream",
     "text": [
      "Prediction: 2.5194887825249226 \n",
      "Original Value: 1.9999999999999996\n"
     ]
    }
   ],
   "source": [
    "# using the same test_df we used before\n",
    "y_pred_log = loaded_model.predict(test_df)\n",
    "\n",
    "# Convert the predictions back to the original scale\n",
    "y_pred_original = np.expm1(y_pred_log)\n",
    "\n",
    "y_test_original = np.expm1(test_y)\n",
    "\n",
    "print(f'Prediction: {y_pred_original[0]} \\nOriginal Value: {y_test_original}')\n"
   ]
  },
  {
   "cell_type": "code",
   "execution_count": 35,
   "metadata": {},
   "outputs": [
    {
     "data": {
      "text/html": [
       "<div>\n",
       "<style scoped>\n",
       "    .dataframe tbody tr th:only-of-type {\n",
       "        vertical-align: middle;\n",
       "    }\n",
       "\n",
       "    .dataframe tbody tr th {\n",
       "        vertical-align: top;\n",
       "    }\n",
       "\n",
       "    .dataframe thead th {\n",
       "        text-align: right;\n",
       "    }\n",
       "</style>\n",
       "<table border=\"1\" class=\"dataframe\">\n",
       "  <thead>\n",
       "    <tr style=\"text-align: right;\">\n",
       "      <th></th>\n",
       "      <th>adm_type</th>\n",
       "      <th>shift_from</th>\n",
       "      <th>ssc</th>\n",
       "      <th>yr_nae</th>\n",
       "      <th>m_no</th>\n",
       "      <th>sex</th>\n",
       "      <th>disease</th>\n",
       "      <th>status</th>\n",
       "      <th>consultant</th>\n",
       "      <th>doa_month</th>\n",
       "      <th>doa_day_of_month</th>\n",
       "      <th>doa_day_of_week</th>\n",
       "      <th>doa_isweekend</th>\n",
       "      <th>doa_quarter</th>\n",
       "    </tr>\n",
       "  </thead>\n",
       "  <tbody>\n",
       "    <tr>\n",
       "      <th>5065</th>\n",
       "      <td>shift_from</td>\n",
       "      <td>er</td>\n",
       "      <td>yes</td>\n",
       "      <td>1006</td>\n",
       "      <td>46</td>\n",
       "      <td>m</td>\n",
       "      <td>mi</td>\n",
       "      <td>discharge</td>\n",
       "      <td>tariq_nawaz</td>\n",
       "      <td>4</td>\n",
       "      <td>5</td>\n",
       "      <td>2</td>\n",
       "      <td>False</td>\n",
       "      <td>2</td>\n",
       "    </tr>\n",
       "  </tbody>\n",
       "</table>\n",
       "</div>"
      ],
      "text/plain": [
       "        adm_type shift_from  ssc  yr_nae  m_no sex disease     status  \\\n",
       "5065  shift_from         er  yes    1006    46   m      mi  discharge   \n",
       "\n",
       "       consultant  doa_month  doa_day_of_month  doa_day_of_week  \\\n",
       "5065  tariq_nawaz          4                 5                2   \n",
       "\n",
       "      doa_isweekend  doa_quarter  \n",
       "5065          False            2  "
      ]
     },
     "execution_count": 35,
     "metadata": {},
     "output_type": "execute_result"
    }
   ],
   "source": [
    "test_df"
   ]
  },
  {
   "cell_type": "code",
   "execution_count": 36,
   "metadata": {},
   "outputs": [
    {
     "data": {
      "text/plain": [
       "'{\"adm_type\":{\"5065\":\"shift_from\"},\"shift_from\":{\"5065\":\"er\"},\"ssc\":{\"5065\":\"yes\"},\"yr_nae\":{\"5065\":1006},\"m_no\":{\"5065\":46},\"sex\":{\"5065\":\"m\"},\"disease\":{\"5065\":\"mi\"},\"status\":{\"5065\":\"discharge\"},\"consultant\":{\"5065\":\"tariq_nawaz\"},\"doa_month\":{\"5065\":4},\"doa_day_of_month\":{\"5065\":5},\"doa_day_of_week\":{\"5065\":2},\"doa_isweekend\":{\"5065\":false},\"doa_quarter\":{\"5065\":2}}'"
      ]
     },
     "execution_count": 36,
     "metadata": {},
     "output_type": "execute_result"
    }
   ],
   "source": [
    "test_df.to_json()"
   ]
  },
  {
   "cell_type": "code",
   "execution_count": 46,
   "metadata": {},
   "outputs": [],
   "source": [
    "df2 = pd.read_csv('./data/cw_22_23_24.csv')"
   ]
  },
  {
   "cell_type": "code",
   "execution_count": 47,
   "metadata": {},
   "outputs": [
    {
     "data": {
      "text/html": [
       "<div>\n",
       "<style scoped>\n",
       "    .dataframe tbody tr th:only-of-type {\n",
       "        vertical-align: middle;\n",
       "    }\n",
       "\n",
       "    .dataframe tbody tr th {\n",
       "        vertical-align: top;\n",
       "    }\n",
       "\n",
       "    .dataframe thead th {\n",
       "        text-align: right;\n",
       "    }\n",
       "</style>\n",
       "<table border=\"1\" class=\"dataframe\">\n",
       "  <thead>\n",
       "    <tr style=\"text-align: right;\">\n",
       "      <th></th>\n",
       "      <th>adm_type</th>\n",
       "      <th>shift_from</th>\n",
       "      <th>ssc</th>\n",
       "      <th>yr_nae</th>\n",
       "      <th>m_no</th>\n",
       "      <th>mrn</th>\n",
       "      <th>pt_name</th>\n",
       "      <th>sex</th>\n",
       "      <th>disease</th>\n",
       "      <th>D.O.A</th>\n",
       "      <th>D.O.D</th>\n",
       "      <th>status</th>\n",
       "      <th>consultant</th>\n",
       "      <th>L.O.S</th>\n",
       "    </tr>\n",
       "  </thead>\n",
       "  <tbody>\n",
       "    <tr>\n",
       "      <th>0</th>\n",
       "      <td>Shift From</td>\n",
       "      <td>ER</td>\n",
       "      <td>No</td>\n",
       "      <td>1</td>\n",
       "      <td>1</td>\n",
       "      <td>21845698</td>\n",
       "      <td>Hara Bibi</td>\n",
       "      <td>F</td>\n",
       "      <td>STEMI</td>\n",
       "      <td>1-Jan-22</td>\n",
       "      <td>1-Jan-22</td>\n",
       "      <td>Discharge</td>\n",
       "      <td>Imran Khan</td>\n",
       "      <td>0</td>\n",
       "    </tr>\n",
       "  </tbody>\n",
       "</table>\n",
       "</div>"
      ],
      "text/plain": [
       "     adm_type shift_from ssc  yr_nae  m_no       mrn    pt_name sex disease  \\\n",
       "0  Shift From         ER  No       1     1  21845698  Hara Bibi   F   STEMI   \n",
       "\n",
       "      D.O.A     D.O.D     status  consultant  L.O.S  \n",
       "0  1-Jan-22  1-Jan-22  Discharge  Imran Khan      0  "
      ]
     },
     "execution_count": 47,
     "metadata": {},
     "output_type": "execute_result"
    }
   ],
   "source": [
    "df2.head(1)"
   ]
  },
  {
   "cell_type": "code",
   "execution_count": 48,
   "metadata": {},
   "outputs": [],
   "source": [
    "del df2['D.O.D']\n",
    "del df2['mrn']\n",
    "del df2['pt_name']\n",
    "del df2['L.O.S']"
   ]
  },
  {
   "cell_type": "code",
   "execution_count": 50,
   "metadata": {},
   "outputs": [
    {
     "data": {
      "text/html": [
       "<div>\n",
       "<style scoped>\n",
       "    .dataframe tbody tr th:only-of-type {\n",
       "        vertical-align: middle;\n",
       "    }\n",
       "\n",
       "    .dataframe tbody tr th {\n",
       "        vertical-align: top;\n",
       "    }\n",
       "\n",
       "    .dataframe thead th {\n",
       "        text-align: right;\n",
       "    }\n",
       "</style>\n",
       "<table border=\"1\" class=\"dataframe\">\n",
       "  <thead>\n",
       "    <tr style=\"text-align: right;\">\n",
       "      <th></th>\n",
       "      <th>adm_type</th>\n",
       "      <th>shift_from</th>\n",
       "      <th>ssc</th>\n",
       "      <th>yr_nae</th>\n",
       "      <th>m_no</th>\n",
       "      <th>sex</th>\n",
       "      <th>disease</th>\n",
       "      <th>status</th>\n",
       "      <th>consultant</th>\n",
       "      <th>doa_month</th>\n",
       "      <th>doa_day_of_month</th>\n",
       "      <th>doa_day_of_week</th>\n",
       "      <th>doa_isweekend</th>\n",
       "      <th>doa_quarter</th>\n",
       "    </tr>\n",
       "  </thead>\n",
       "  <tbody>\n",
       "    <tr>\n",
       "      <th>5065</th>\n",
       "      <td>shift_from</td>\n",
       "      <td>er</td>\n",
       "      <td>yes</td>\n",
       "      <td>1006</td>\n",
       "      <td>46</td>\n",
       "      <td>m</td>\n",
       "      <td>mi</td>\n",
       "      <td>discharge</td>\n",
       "      <td>tariq_nawaz</td>\n",
       "      <td>4</td>\n",
       "      <td>5</td>\n",
       "      <td>2</td>\n",
       "      <td>False</td>\n",
       "      <td>2</td>\n",
       "    </tr>\n",
       "  </tbody>\n",
       "</table>\n",
       "</div>"
      ],
      "text/plain": [
       "        adm_type shift_from  ssc  yr_nae  m_no sex disease     status  \\\n",
       "5065  shift_from         er  yes    1006    46   m      mi  discharge   \n",
       "\n",
       "       consultant  doa_month  doa_day_of_month  doa_day_of_week  \\\n",
       "5065  tariq_nawaz          4                 5                2   \n",
       "\n",
       "      doa_isweekend  doa_quarter  \n",
       "5065          False            2  "
      ]
     },
     "execution_count": 50,
     "metadata": {},
     "output_type": "execute_result"
    }
   ],
   "source": [
    "test_df"
   ]
  },
  {
   "cell_type": "code",
   "execution_count": 54,
   "metadata": {},
   "outputs": [],
   "source": [
    "for column in test_df.columns:\n",
    "    if 'doa' in column:\n",
    "        del test_df[column]"
   ]
  },
  {
   "cell_type": "code",
   "execution_count": 56,
   "metadata": {},
   "outputs": [],
   "source": [
    "test_df['doa'] = '1-Jan-22'"
   ]
  },
  {
   "cell_type": "code",
   "execution_count": 57,
   "metadata": {},
   "outputs": [
    {
     "data": {
      "text/html": [
       "<div>\n",
       "<style scoped>\n",
       "    .dataframe tbody tr th:only-of-type {\n",
       "        vertical-align: middle;\n",
       "    }\n",
       "\n",
       "    .dataframe tbody tr th {\n",
       "        vertical-align: top;\n",
       "    }\n",
       "\n",
       "    .dataframe thead th {\n",
       "        text-align: right;\n",
       "    }\n",
       "</style>\n",
       "<table border=\"1\" class=\"dataframe\">\n",
       "  <thead>\n",
       "    <tr style=\"text-align: right;\">\n",
       "      <th></th>\n",
       "      <th>adm_type</th>\n",
       "      <th>shift_from</th>\n",
       "      <th>ssc</th>\n",
       "      <th>yr_nae</th>\n",
       "      <th>m_no</th>\n",
       "      <th>sex</th>\n",
       "      <th>disease</th>\n",
       "      <th>status</th>\n",
       "      <th>consultant</th>\n",
       "      <th>doa</th>\n",
       "    </tr>\n",
       "  </thead>\n",
       "  <tbody>\n",
       "    <tr>\n",
       "      <th>5065</th>\n",
       "      <td>shift_from</td>\n",
       "      <td>er</td>\n",
       "      <td>yes</td>\n",
       "      <td>1006</td>\n",
       "      <td>46</td>\n",
       "      <td>m</td>\n",
       "      <td>mi</td>\n",
       "      <td>discharge</td>\n",
       "      <td>tariq_nawaz</td>\n",
       "      <td>1-Jan-22</td>\n",
       "    </tr>\n",
       "  </tbody>\n",
       "</table>\n",
       "</div>"
      ],
      "text/plain": [
       "        adm_type shift_from  ssc  yr_nae  m_no sex disease     status  \\\n",
       "5065  shift_from         er  yes    1006    46   m      mi  discharge   \n",
       "\n",
       "       consultant       doa  \n",
       "5065  tariq_nawaz  1-Jan-22  "
      ]
     },
     "execution_count": 57,
     "metadata": {},
     "output_type": "execute_result"
    }
   ],
   "source": [
    "test_df"
   ]
  },
  {
   "cell_type": "code",
   "execution_count": 62,
   "metadata": {},
   "outputs": [
    {
     "data": {
      "text/plain": [
       "'[{\"adm_type\":\"shift_from\",\"shift_from\":\"er\",\"ssc\":\"yes\",\"yr_nae\":1006,\"m_no\":46,\"sex\":\"m\",\"disease\":\"mi\",\"status\":\"discharge\",\"consultant\":\"tariq_nawaz\",\"doa\":\"1-Jan-22\"}]'"
      ]
     },
     "execution_count": 62,
     "metadata": {},
     "output_type": "execute_result"
    }
   ],
   "source": [
    "test_df.to_json(orient='records')"
   ]
  },
  {
   "cell_type": "markdown",
   "metadata": {},
   "source": [
    "## Function to prepare data\n",
    "\n",
    "Thinking about the service that is going to receive data and make predictions, we need to make a function that:\n",
    "- Receives a record in json format\n",
    "- The record wont have some of the columns we need (month, day of the month, day of week, is weekend and quarter)\n",
    "- returns the data with all the columns required for the model to work"
   ]
  },
  {
   "cell_type": "code",
   "execution_count": 67,
   "metadata": {},
   "outputs": [],
   "source": [
    "import json"
   ]
  },
  {
   "cell_type": "code",
   "execution_count": 68,
   "metadata": {},
   "outputs": [],
   "source": [
    "# Sample data\n",
    "data = '''{\n",
    "        \"adm_type\":\"shift_from\",\n",
    "        \"shift_from\":\"er\",\n",
    "        \"ssc\":\"yes\",\n",
    "        \"yr_nae\":1006,\n",
    "        \"m_no\":46,\n",
    "        \"sex\":\"m\",\n",
    "        \"disease\":\"mi\",\n",
    "        \"status\":\"discharge\",\n",
    "        \"consultant\":\"tariq_nawaz\",\n",
    "        \"doa\":\"1-Jan-22\"\n",
    "    }'''\n",
    "\n",
    "# Parse the JSON string into a Python dictionary\n",
    "data_dict = json.loads(data)\n",
    "\n",
    "# Create a Pandas DataFrame from the dictionary\n",
    "input_df = pd.DataFrame([data_dict])"
   ]
  },
  {
   "cell_type": "code",
   "execution_count": 69,
   "metadata": {},
   "outputs": [
    {
     "data": {
      "text/html": [
       "<div>\n",
       "<style scoped>\n",
       "    .dataframe tbody tr th:only-of-type {\n",
       "        vertical-align: middle;\n",
       "    }\n",
       "\n",
       "    .dataframe tbody tr th {\n",
       "        vertical-align: top;\n",
       "    }\n",
       "\n",
       "    .dataframe thead th {\n",
       "        text-align: right;\n",
       "    }\n",
       "</style>\n",
       "<table border=\"1\" class=\"dataframe\">\n",
       "  <thead>\n",
       "    <tr style=\"text-align: right;\">\n",
       "      <th></th>\n",
       "      <th>adm_type</th>\n",
       "      <th>shift_from</th>\n",
       "      <th>ssc</th>\n",
       "      <th>yr_nae</th>\n",
       "      <th>m_no</th>\n",
       "      <th>sex</th>\n",
       "      <th>disease</th>\n",
       "      <th>status</th>\n",
       "      <th>consultant</th>\n",
       "      <th>doa</th>\n",
       "    </tr>\n",
       "  </thead>\n",
       "  <tbody>\n",
       "    <tr>\n",
       "      <th>0</th>\n",
       "      <td>shift_from</td>\n",
       "      <td>er</td>\n",
       "      <td>yes</td>\n",
       "      <td>1006</td>\n",
       "      <td>46</td>\n",
       "      <td>m</td>\n",
       "      <td>mi</td>\n",
       "      <td>discharge</td>\n",
       "      <td>tariq_nawaz</td>\n",
       "      <td>1-Jan-22</td>\n",
       "    </tr>\n",
       "  </tbody>\n",
       "</table>\n",
       "</div>"
      ],
      "text/plain": [
       "     adm_type shift_from  ssc  yr_nae  m_no sex disease     status  \\\n",
       "0  shift_from         er  yes    1006    46   m      mi  discharge   \n",
       "\n",
       "    consultant       doa  \n",
       "0  tariq_nawaz  1-Jan-22  "
      ]
     },
     "execution_count": 69,
     "metadata": {},
     "output_type": "execute_result"
    }
   ],
   "source": [
    "input_df"
   ]
  }
 ],
 "metadata": {
  "kernelspec": {
   "display_name": "python3.10",
   "language": "python",
   "name": "python3"
  },
  "language_info": {
   "codemirror_mode": {
    "name": "ipython",
    "version": 3
   },
   "file_extension": ".py",
   "mimetype": "text/x-python",
   "name": "python",
   "nbconvert_exporter": "python",
   "pygments_lexer": "ipython3",
   "version": "3.10.12"
  }
 },
 "nbformat": 4,
 "nbformat_minor": 4
}
