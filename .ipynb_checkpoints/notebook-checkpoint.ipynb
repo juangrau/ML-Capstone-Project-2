{
 "cells": [
  {
   "cell_type": "markdown",
   "metadata": {},
   "source": [
    "# Machine Learning Zoomcamp - Capstone Project 2 - Cardiology Unit Admission\n",
    "\n",
    "As described on the Readme.md file, in this project a Linear Regression model will be trained and tuned to estimate the length of stay for patients in a Cardiology Unit.\n",
    "\n",
    "The dataset is available at Kaggel at [this address]('https://www.kaggle.com/datasets/mansoorahmad4477/cardiology-unit-admission')\n",
    "\n",
    "Lets download the dataset"
   ]
  },
  {
   "cell_type": "markdown",
   "metadata": {},
   "source": [
    "## Dataset Download\n",
    "\n",
    "As the dataset is available in Kaggle website, the easiest way to download it is using the kagglehub python library.\n",
    "\n",
    "If you dont have the kagglehub library install you can install it with this command:\n",
    "\n",
    "``` shell\n",
    "pip install kagglehub\n",
    "```"
   ]
  },
  {
   "cell_type": "code",
   "execution_count": 2,
   "metadata": {},
   "outputs": [
    {
     "name": "stdout",
     "output_type": "stream",
     "text": [
      "Collecting kagglehub\n",
      "  Using cached kagglehub-0.3.6-py3-none-any.whl.metadata (30 kB)\n",
      "Requirement already satisfied: packaging in /home/jgrau/anaconda3/envs/python3.10/lib/python3.10/site-packages (from kagglehub) (24.2)\n",
      "Requirement already satisfied: requests in /home/jgrau/anaconda3/envs/python3.10/lib/python3.10/site-packages (from kagglehub) (2.32.3)\n",
      "Collecting tqdm (from kagglehub)\n",
      "  Using cached tqdm-4.67.1-py3-none-any.whl.metadata (57 kB)\n",
      "Requirement already satisfied: charset-normalizer<4,>=2 in /home/jgrau/anaconda3/envs/python3.10/lib/python3.10/site-packages (from requests->kagglehub) (3.3.2)\n",
      "Requirement already satisfied: idna<4,>=2.5 in /home/jgrau/anaconda3/envs/python3.10/lib/python3.10/site-packages (from requests->kagglehub) (3.7)\n",
      "Requirement already satisfied: urllib3<3,>=1.21.1 in /home/jgrau/anaconda3/envs/python3.10/lib/python3.10/site-packages (from requests->kagglehub) (2.2.3)\n",
      "Requirement already satisfied: certifi>=2017.4.17 in /home/jgrau/anaconda3/envs/python3.10/lib/python3.10/site-packages (from requests->kagglehub) (2024.12.14)\n",
      "Using cached kagglehub-0.3.6-py3-none-any.whl (51 kB)\n",
      "Using cached tqdm-4.67.1-py3-none-any.whl (78 kB)\n",
      "Installing collected packages: tqdm, kagglehub\n",
      "Successfully installed kagglehub-0.3.6 tqdm-4.67.1\n"
     ]
    }
   ],
   "source": [
    "!pip install kagglehub"
   ]
  },
  {
   "cell_type": "code",
   "execution_count": 16,
   "metadata": {},
   "outputs": [
    {
     "name": "stdout",
     "output_type": "stream",
     "text": [
      "Downloading from https://www.kaggle.com/api/v1/datasets/download/mansoorahmad4477/cardiology-unit-admission?dataset_version_number=1...\n"
     ]
    },
    {
     "name": "stderr",
     "output_type": "stream",
     "text": [
      "100%|██████████| 209k/209k [00:00<00:00, 1.48MB/s]"
     ]
    },
    {
     "name": "stdout",
     "output_type": "stream",
     "text": [
      "Extracting files...\n",
      "Path where the dataset was downloaded is: /home/jgrau/.cache/kagglehub/datasets/mansoorahmad4477/cardiology-unit-admission/versions/1\n"
     ]
    },
    {
     "name": "stderr",
     "output_type": "stream",
     "text": [
      "\n"
     ]
    }
   ],
   "source": [
    "import kagglehub\n",
    "\n",
    "# Download latest version\n",
    "path = kagglehub.dataset_download(\"mansoorahmad4477/cardiology-unit-admission\")\n",
    "print(\"Path where the dataset was downloaded is: \" + path)"
   ]
  },
  {
   "cell_type": "markdown",
   "metadata": {},
   "source": [
    "With this command we downloaded the dataset, but we need to store it on our project folder"
   ]
  },
  {
   "cell_type": "code",
   "execution_count": 17,
   "metadata": {},
   "outputs": [
    {
     "name": "stdout",
     "output_type": "stream",
     "text": [
      "cw_22_23_24.csv\n"
     ]
    }
   ],
   "source": [
    "!mkdir ./data\n",
    "!mv {path}/* ./data\n",
    "!ls ./data"
   ]
  },
  {
   "cell_type": "markdown",
   "metadata": {},
   "source": [
    "## Load and Prepare Data"
   ]
  },
  {
   "cell_type": "code",
   "execution_count": 1,
   "metadata": {},
   "outputs": [],
   "source": [
    "import pandas as pd\n",
    "import numpy as np\n",
    "from sklearn.model_selection import train_test_split"
   ]
  },
  {
   "cell_type": "code",
   "execution_count": 34,
   "metadata": {},
   "outputs": [],
   "source": [
    "df = pd.read_csv('./data/cw_22_23_24.csv')"
   ]
  },
  {
   "cell_type": "code",
   "execution_count": 30,
   "metadata": {},
   "outputs": [
    {
     "data": {
      "text/plain": [
       "9573"
      ]
     },
     "execution_count": 30,
     "metadata": {},
     "output_type": "execute_result"
    }
   ],
   "source": [
    "len(df)"
   ]
  },
  {
   "cell_type": "code",
   "execution_count": 31,
   "metadata": {},
   "outputs": [
    {
     "data": {
      "text/html": [
       "<div>\n",
       "<style scoped>\n",
       "    .dataframe tbody tr th:only-of-type {\n",
       "        vertical-align: middle;\n",
       "    }\n",
       "\n",
       "    .dataframe tbody tr th {\n",
       "        vertical-align: top;\n",
       "    }\n",
       "\n",
       "    .dataframe thead th {\n",
       "        text-align: right;\n",
       "    }\n",
       "</style>\n",
       "<table border=\"1\" class=\"dataframe\">\n",
       "  <thead>\n",
       "    <tr style=\"text-align: right;\">\n",
       "      <th></th>\n",
       "      <th>adm_type</th>\n",
       "      <th>shift_from</th>\n",
       "      <th>ssc</th>\n",
       "      <th>yr_nae</th>\n",
       "      <th>m_no</th>\n",
       "      <th>mrn</th>\n",
       "      <th>pt_name</th>\n",
       "      <th>sex</th>\n",
       "      <th>disease</th>\n",
       "      <th>D.O.A</th>\n",
       "      <th>D.O.D</th>\n",
       "      <th>status</th>\n",
       "      <th>consultant</th>\n",
       "      <th>L.O.S</th>\n",
       "    </tr>\n",
       "  </thead>\n",
       "  <tbody>\n",
       "    <tr>\n",
       "      <th>0</th>\n",
       "      <td>Shift From</td>\n",
       "      <td>ER</td>\n",
       "      <td>No</td>\n",
       "      <td>1</td>\n",
       "      <td>1</td>\n",
       "      <td>21845698</td>\n",
       "      <td>Hara Bibi</td>\n",
       "      <td>F</td>\n",
       "      <td>STEMI</td>\n",
       "      <td>1-Jan-22</td>\n",
       "      <td>1-Jan-22</td>\n",
       "      <td>Discharge</td>\n",
       "      <td>Imran Khan</td>\n",
       "      <td>0</td>\n",
       "    </tr>\n",
       "    <tr>\n",
       "      <th>1</th>\n",
       "      <td>Shift From</td>\n",
       "      <td>ER</td>\n",
       "      <td>No</td>\n",
       "      <td>2</td>\n",
       "      <td>2</td>\n",
       "      <td>22000071</td>\n",
       "      <td>Taj Rehman</td>\n",
       "      <td>M</td>\n",
       "      <td>ADHF</td>\n",
       "      <td>1-Jan-22</td>\n",
       "      <td>5-Jan-22</td>\n",
       "      <td>Discharge</td>\n",
       "      <td>Malik Faisal</td>\n",
       "      <td>4</td>\n",
       "    </tr>\n",
       "    <tr>\n",
       "      <th>2</th>\n",
       "      <td>Shift From</td>\n",
       "      <td>ER</td>\n",
       "      <td>No</td>\n",
       "      <td>3</td>\n",
       "      <td>3</td>\n",
       "      <td>21838760</td>\n",
       "      <td>Bakhtawar Shah</td>\n",
       "      <td>M</td>\n",
       "      <td>ihd</td>\n",
       "      <td>1-Jan-22</td>\n",
       "      <td>10-Jan-22</td>\n",
       "      <td>Discharge</td>\n",
       "      <td>Asif Iqbal</td>\n",
       "      <td>9</td>\n",
       "    </tr>\n",
       "    <tr>\n",
       "      <th>3</th>\n",
       "      <td>Shift From</td>\n",
       "      <td>ER</td>\n",
       "      <td>No</td>\n",
       "      <td>4</td>\n",
       "      <td>4</td>\n",
       "      <td>22000251</td>\n",
       "      <td>Arasal Jan Bibi</td>\n",
       "      <td>F</td>\n",
       "      <td>NaN</td>\n",
       "      <td>1-Jan-22</td>\n",
       "      <td>7-Jan-22</td>\n",
       "      <td>Discharge</td>\n",
       "      <td>Sher Bahadar</td>\n",
       "      <td>6</td>\n",
       "    </tr>\n",
       "    <tr>\n",
       "      <th>4</th>\n",
       "      <td>Shift From</td>\n",
       "      <td>Neu</td>\n",
       "      <td>No</td>\n",
       "      <td>5</td>\n",
       "      <td>5</td>\n",
       "      <td>21825110</td>\n",
       "      <td>Khad Mewa</td>\n",
       "      <td>F</td>\n",
       "      <td>NaN</td>\n",
       "      <td>1-Jan-22</td>\n",
       "      <td>2-Jan-22</td>\n",
       "      <td>Discharge</td>\n",
       "      <td>Tariq Nawaz</td>\n",
       "      <td>1</td>\n",
       "    </tr>\n",
       "  </tbody>\n",
       "</table>\n",
       "</div>"
      ],
      "text/plain": [
       "     adm_type shift_from ssc  yr_nae  m_no       mrn          pt_name sex  \\\n",
       "0  Shift From         ER  No       1     1  21845698        Hara Bibi   F   \n",
       "1  Shift From         ER  No       2     2  22000071       Taj Rehman   M   \n",
       "2  Shift From         ER  No       3     3  21838760   Bakhtawar Shah   M   \n",
       "3  Shift From         ER  No       4     4  22000251  Arasal Jan Bibi   F   \n",
       "4  Shift From        Neu  No       5     5  21825110       Khad Mewa    F   \n",
       "\n",
       "  disease     D.O.A      D.O.D     status    consultant  L.O.S  \n",
       "0   STEMI  1-Jan-22   1-Jan-22  Discharge    Imran Khan      0  \n",
       "1    ADHF  1-Jan-22   5-Jan-22  Discharge  Malik Faisal      4  \n",
       "2     ihd  1-Jan-22  10-Jan-22  Discharge    Asif Iqbal      9  \n",
       "3     NaN  1-Jan-22   7-Jan-22  Discharge  Sher Bahadar      6  \n",
       "4     NaN  1-Jan-22   2-Jan-22  Discharge   Tariq Nawaz      1  "
      ]
     },
     "execution_count": 31,
     "metadata": {},
     "output_type": "execute_result"
    }
   ],
   "source": [
    "df.head()"
   ]
  },
  {
   "cell_type": "markdown",
   "metadata": {},
   "source": [
    "### Columns Description\n",
    "\n",
    "Based on the information available at Kaggle, this is the description of the information available in each column of the dataset:\n",
    "\n",
    "- adm_type: Indicates the type of admission (e.g., \"Shift From\").\n",
    "- shift_from: Specifies the source from where the patient was shifted (e.g., \"ER\" for Emergency Room, \"Neu\" for Neurology).\n",
    "- ssc: Sehat Sahulat Card insurance or Health card of KPK province.\n",
    "- yr_nae: Likely represents the year of the admission event.\n",
    "- m_no: Month number of the admission event.\n",
    "- mrn: Medical record number, a unique identifier for each patient.\n",
    "- pt_name: Name of the patient.\n",
    "- sex: Gender of the patient (e.g., \"M\" for male, \"F\" for female).\n",
    "- disease: Diagnosis or condition of the patient (e.g., \"STEMI\", \"ADHF\").\n",
    "- D.O.A: Date of admission in various formats.\n",
    "- D.O.D: Date of discharge or death, also in various formats.\n",
    "- status: Discharge status of the patient (e.g., \"Discharge\").\n",
    "- consultant: Name of the consulting doctor responsible for the patient.\n",
    "- L.O.S: Length of stay in the hospital, measured in days. **--> This will be our target variable**\n",
    "\n",
    "From these columns, it is possible to identify that some of them must no be part of the ML model, as they wont be at hand at the moment we need to make a prediction, which are D.O.A, D.O.D"
   ]
  },
  {
   "cell_type": "code",
   "execution_count": 35,
   "metadata": {},
   "outputs": [],
   "source": [
    "del df['D.O.A']\n",
    "del df['D.O.D']\n"
   ]
  },
  {
   "cell_type": "code",
   "execution_count": 36,
   "metadata": {},
   "outputs": [
    {
     "data": {
      "text/plain": [
       "adm_type      object\n",
       "shift_from    object\n",
       "ssc           object\n",
       "yr_nae         int64\n",
       "m_no           int64\n",
       "mrn           object\n",
       "pt_name       object\n",
       "sex           object\n",
       "disease       object\n",
       "status        object\n",
       "consultant    object\n",
       "L.O.S          int64\n",
       "dtype: object"
      ]
     },
     "execution_count": 36,
     "metadata": {},
     "output_type": "execute_result"
    }
   ],
   "source": [
    "df.dtypes"
   ]
  },
  {
   "cell_type": "code",
   "execution_count": 37,
   "metadata": {},
   "outputs": [
    {
     "data": {
      "text/plain": [
       "Index(['adm_type', 'shift_from', 'ssc', 'yr_nae', 'm_no', 'mrn', 'pt_name',\n",
       "       'sex', 'disease', 'status', 'consultant', 'los'],\n",
       "      dtype='object')"
      ]
     },
     "execution_count": 37,
     "metadata": {},
     "output_type": "execute_result"
    }
   ],
   "source": [
    "# lets normalize the columns names\n",
    "df.columns = df.columns.str.lower().str.replace(' ','_').str.replace('.', '')\n",
    "df.columns"
   ]
  },
  {
   "cell_type": "markdown",
   "metadata": {},
   "source": [
    "We can see that there are columns that can be defined as categorial variables. Lets normalize the information on those."
   ]
  },
  {
   "cell_type": "code",
   "execution_count": 38,
   "metadata": {},
   "outputs": [],
   "source": [
    "categorical = list(df.dtypes[df.dtypes == 'object'].index)\n",
    "\n",
    "for c in categorical:\n",
    "    df[c] = df[c].str.lower().str.replace(' ','_')"
   ]
  },
  {
   "cell_type": "code",
   "execution_count": 39,
   "metadata": {},
   "outputs": [
    {
     "name": "stdout",
     "output_type": "stream",
     "text": [
      "********************\n",
      "adm_type\n",
      "shift_from    9192\n",
      "ibp            194\n",
      "opd            107\n",
      "er              78\n",
      "opd_             2\n",
      "Name: count, dtype: int64\n",
      "********************\n",
      "\n",
      "\n",
      "********************\n",
      "shift_from\n",
      "er                8073\n",
      "post_cath         1013\n",
      "ibp                167\n",
      "opd                 90\n",
      "pcw                 22\n",
      "                  ... \n",
      "gynae                1\n",
      "ct_icu/ibp           1\n",
      "amu/er               1\n",
      "shift_from_cvw       1\n",
      "s-pacu               1\n",
      "Name: count, Length: 97, dtype: int64\n",
      "********************\n",
      "\n",
      "\n",
      "********************\n",
      "ssc\n",
      "no     5658\n",
      "yes    3915\n",
      "Name: count, dtype: int64\n",
      "********************\n",
      "\n",
      "\n",
      "********************\n",
      "mrn\n",
      "5017905     3\n",
      "22302825    2\n",
      "5396245     2\n",
      "22987541    2\n",
      "5139589     2\n",
      "           ..\n",
      "22918773    1\n",
      "22913469    1\n",
      "22917790    1\n",
      "22918295    1\n",
      "7047427     1\n",
      "Name: count, Length: 9461, dtype: int64\n",
      "********************\n",
      "\n",
      "\n",
      "********************\n",
      "pt_name\n",
      "yasmeen_bibi    28\n",
      "razia_bibi      26\n",
      "nasreen_bibi    21\n",
      "shamim_bibi     21\n",
      "taj_bibi        20\n",
      "                ..\n",
      "lajbar_kha_n     1\n",
      "gulzar_din_      1\n",
      "naseem_khan_     1\n",
      "m._arshad_       1\n",
      "barlagai         1\n",
      "Name: count, Length: 6270, dtype: int64\n",
      "********************\n",
      "\n",
      "\n",
      "********************\n",
      "sex\n",
      "m    5631\n",
      "f    3942\n",
      "Name: count, dtype: int64\n",
      "********************\n",
      "\n",
      "\n",
      "********************\n",
      "disease\n",
      "awmi            1478\n",
      "iwmi             807\n",
      "nstemi           745\n",
      "mi               381\n",
      "chb              345\n",
      "                ... \n",
      "ihd_avr            1\n",
      "htn_mi             1\n",
      "dc_cad             1\n",
      "charsadda          1\n",
      "infected_ppm       1\n",
      "Name: count, Length: 744, dtype: int64\n",
      "********************\n",
      "\n",
      "\n",
      "********************\n",
      "status\n",
      "discharge    8608\n",
      "expire        537\n",
      "shifted       205\n",
      "lama          185\n",
      "dow            38\n",
      "Name: count, dtype: int64\n",
      "********************\n",
      "\n",
      "\n",
      "********************\n",
      "consultant\n",
      "imran_khan         1436\n",
      "jabar_ali          1422\n",
      "tariq_nawaz        1372\n",
      "malik_faisal       1292\n",
      "samra_rehmat        982\n",
      "asif_iqbal          977\n",
      "ikram_ullah         789\n",
      "said_zaman          505\n",
      "sher_bahadar        380\n",
      "adil                361\n",
      "sadia_ilyas          36\n",
      "syed_asif_akbar      11\n",
      "arshad_sohail         8\n",
      "_tariq_nawaz          2\n",
      "Name: count, dtype: int64\n",
      "********************\n",
      "\n",
      "\n"
     ]
    }
   ],
   "source": [
    "for c in categorical:\n",
    "    print('********************')\n",
    "    print(df[c].value_counts())\n",
    "    print('********************' + \"\\n\\n\")"
   ]
  },
  {
   "cell_type": "markdown",
   "metadata": {},
   "source": [
    "We can see there are two date columns which are doa (date of admission) and dod (date of discharge). Lets transform these columns as date format"
   ]
  },
  {
   "cell_type": "markdown",
   "metadata": {},
   "source": [
    "### Handling missing values\n",
    "\n",
    "We can see that the only column with missing values is the column *disease*. There are multiple ways to handle this case. Among the options we could mention the following three options:\n",
    "1. **Delete rows with missing values**: This would be the most simple option, but as the missing values represent around 21% of the rows, we would be missing too much data.\n",
    "2. **Inpute Missing values**: This mean that we could could fill these values with a constant value or with the most frequent value. The problem with this is that we could be introducing bias to the model.\n",
    "3. **Create new category for Missing Values**: By filling these values with 'missing' could be helpful as it would be considered as an additional category/value on this column. We are going with this aproach.\n"
   ]
  },
  {
   "cell_type": "code",
   "execution_count": 40,
   "metadata": {},
   "outputs": [
    {
     "name": "stderr",
     "output_type": "stream",
     "text": [
      "/tmp/ipykernel_1270/2012226267.py:1: FutureWarning: A value is trying to be set on a copy of a DataFrame or Series through chained assignment using an inplace method.\n",
      "The behavior will change in pandas 3.0. This inplace method will never work because the intermediate object on which we are setting values always behaves as a copy.\n",
      "\n",
      "For example, when doing 'df[col].method(value, inplace=True)', try using 'df.method({col: value}, inplace=True)' or df[col] = df[col].method(value) instead, to perform the operation inplace on the original object.\n",
      "\n",
      "\n",
      "  df['disease'].fillna('missing', inplace=True)\n"
     ]
    }
   ],
   "source": [
    "df['disease'].fillna('missing', inplace=True)"
   ]
  },
  {
   "cell_type": "code",
   "execution_count": 41,
   "metadata": {},
   "outputs": [
    {
     "name": "stdout",
     "output_type": "stream",
     "text": [
      "<class 'pandas.core.frame.DataFrame'>\n",
      "RangeIndex: 9573 entries, 0 to 9572\n",
      "Data columns (total 12 columns):\n",
      " #   Column      Non-Null Count  Dtype \n",
      "---  ------      --------------  ----- \n",
      " 0   adm_type    9573 non-null   object\n",
      " 1   shift_from  9573 non-null   object\n",
      " 2   ssc         9573 non-null   object\n",
      " 3   yr_nae      9573 non-null   int64 \n",
      " 4   m_no        9573 non-null   int64 \n",
      " 5   mrn         9573 non-null   object\n",
      " 6   pt_name     9573 non-null   object\n",
      " 7   sex         9573 non-null   object\n",
      " 8   disease     9573 non-null   object\n",
      " 9   status      9573 non-null   object\n",
      " 10  consultant  9573 non-null   object\n",
      " 11  los         9573 non-null   int64 \n",
      "dtypes: int64(3), object(9)\n",
      "memory usage: 897.6+ KB\n"
     ]
    }
   ],
   "source": [
    "df.info()"
   ]
  },
  {
   "cell_type": "markdown",
   "metadata": {},
   "source": [
    "### Splitting the data"
   ]
  },
  {
   "cell_type": "code",
   "execution_count": 42,
   "metadata": {},
   "outputs": [],
   "source": [
    "df_full_train, df_test = train_test_split(df, test_size=0.2, random_state=1)\n",
    "df_train, df_val = train_test_split(df_full_train, test_size=0.25, random_state=1)\n",
    "\n",
    "y_train = df_train.los.values\n",
    "y_val = df_val.los.values\n",
    "y_test = df_test.los.values\n",
    "\n",
    "df_train = df_train.reset_index(drop=True)\n",
    "df_val = df_val.reset_index(drop=True)\n",
    "df_test = df_test.reset_index(drop=True)\n",
    "\n",
    "del df_train['los']\n",
    "del df_val['los']\n",
    "del df_test['los']"
   ]
  },
  {
   "cell_type": "code",
   "execution_count": null,
   "metadata": {},
   "outputs": [],
   "source": []
  }
 ],
 "metadata": {
  "kernelspec": {
   "display_name": "Python (python3.10)",
   "language": "python",
   "name": "python3.10"
  },
  "language_info": {
   "codemirror_mode": {
    "name": "ipython",
    "version": 3
   },
   "file_extension": ".py",
   "mimetype": "text/x-python",
   "name": "python",
   "nbconvert_exporter": "python",
   "pygments_lexer": "ipython3",
   "version": "3.10.12"
  }
 },
 "nbformat": 4,
 "nbformat_minor": 4
}
